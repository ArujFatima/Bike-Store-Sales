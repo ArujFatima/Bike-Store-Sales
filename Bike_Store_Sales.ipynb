{
  "cells": [
    {
      "cell_type": "markdown",
      "metadata": {
        "id": "view-in-github",
        "colab_type": "text"
      },
      "source": [
        "<a href=\"https://colab.research.google.com/github/ArujFatima/Bike-Store-Sales/blob/main/Bike_Store_Sales.ipynb\" target=\"_parent\"><img src=\"https://colab.research.google.com/assets/colab-badge.svg\" alt=\"Open In Colab\"/></a>"
      ]
    },
    {
      "cell_type": "code",
      "execution_count": null,
      "metadata": {
        "id": "EVhBdndaHzJp"
      },
      "outputs": [],
      "source": [
        "!git config --global user.email \"aroojsaleem12345@gmail.com\"\n",
        "!git config --global user.name \"ArujFatima\""
      ]
    },
    {
      "cell_type": "code",
      "execution_count": null,
      "metadata": {
        "colab": {
          "base_uri": "https://localhost:8080/"
        },
        "id": "fqrlEazkAsyY",
        "outputId": "ea7eb6eb-8ff2-4463-e50e-8b7a167f9704"
      },
      "outputs": [
        {
          "output_type": "stream",
          "name": "stdout",
          "text": [
            "Initialized empty Git repository in /content/.git/\n",
            "[master (root-commit) ef9565f] Initial commit\n",
            " 19 files changed, 50872 insertions(+)\n",
            " create mode 100644 .config/.last_opt_in_prompt.yaml\n",
            " create mode 100644 .config/.last_survey_prompt.yaml\n",
            " create mode 100644 .config/.last_update_check.json\n",
            " create mode 100644 .config/active_config\n",
            " create mode 100644 .config/config_sentinel\n",
            " create mode 100644 .config/configurations/config_default\n",
            " create mode 100644 .config/gce\n",
            " create mode 100644 .config/logs/2023.05.15/13.34.29.729456.log\n",
            " create mode 100644 .config/logs/2023.05.15/13.34.55.186124.log\n",
            " create mode 100644 .config/logs/2023.05.15/13.35.21.121211.log\n",
            " create mode 100644 .config/logs/2023.05.15/13.35.29.575783.log\n",
            " create mode 100644 .config/logs/2023.05.15/13.35.56.261760.log\n",
            " create mode 100644 .config/logs/2023.05.15/13.35.57.028304.log\n",
            " create mode 100755 sample_data/README.md\n",
            " create mode 100755 sample_data/anscombe.json\n",
            " create mode 100644 sample_data/california_housing_test.csv\n",
            " create mode 100644 sample_data/california_housing_train.csv\n",
            " create mode 100644 sample_data/mnist_test.csv\n",
            " create mode 100644 sample_data/mnist_train_small.csv\n",
            "Host key verification failed.\n",
            "fatal: Could not read from remote repository.\n",
            "\n",
            "Please make sure you have the correct access rights\n",
            "and the repository exists.\n"
          ]
        }
      ],
      "source": [
        "!git init\n",
        "!git add .\n",
        "!git commit -m \"Initial commit\"\n",
        "!git remote add origin git@github.com:ArujFatima/Bike-Store-Sales.git\n",
        "!git push -u origin master"
      ]
    },
    {
      "cell_type": "code",
      "execution_count": null,
      "metadata": {
        "id": "wLrglbjzKisU"
      },
      "outputs": [],
      "source": [
        "!git remote remove origin\n",
        "!git remote add origin git@github.com:ArujFatima/Bike-Store-Sales.git\n"
      ]
    },
    {
      "cell_type": "markdown",
      "metadata": {
        "id": "pDlFh-9BINvf"
      },
      "source": [
        "!git push -u origin master"
      ]
    },
    {
      "cell_type": "code",
      "execution_count": null,
      "metadata": {
        "colab": {
          "base_uri": "https://localhost:8080/"
        },
        "id": "Jy0XtMhnLvaY",
        "outputId": "e2c9948d-fbc5-42bd-9e04-4404a2e0f1ce"
      },
      "outputs": [
        {
          "output_type": "stream",
          "name": "stdout",
          "text": [
            "Host key verification failed.\r\n",
            "fatal: Could not read from remote repository.\n",
            "\n",
            "Please make sure you have the correct access rights\n",
            "and the repository exists.\n"
          ]
        }
      ],
      "source": [
        "!git push -u origin master\n"
      ]
    },
    {
      "cell_type": "code",
      "execution_count": null,
      "metadata": {
        "colab": {
          "base_uri": "https://localhost:8080/"
        },
        "id": "IjXgcucoUlUp",
        "outputId": "4739372c-fd30-48ad-e362-f8a3b77bf6fe"
      },
      "outputs": [
        {
          "output_type": "stream",
          "name": "stdout",
          "text": [
            "Generating public/private rsa key pair.\n",
            "Enter file in which to save the key (/root/.ssh/id_rsa): ^C\n"
          ]
        }
      ],
      "source": [
        "!ssh-keygen -t rsa -b 4096 -C \"aroojsaleem12345@gmail.com\"\n",
        "\n",
        "\n"
      ]
    },
    {
      "cell_type": "code",
      "source": [
        "!cat ~/.ssh/id_rsa.pub\n"
      ],
      "metadata": {
        "colab": {
          "base_uri": "https://localhost:8080/"
        },
        "id": "wBeIM1miz3rB",
        "outputId": "3be7dc8d-f1ed-49a7-ded1-658f6d327343"
      },
      "execution_count": null,
      "outputs": [
        {
          "output_type": "stream",
          "name": "stdout",
          "text": [
            "ssh-rsa AAAAB3NzaC1yc2EAAAADAQABAAACAQCke6tpXHqeLgY+wxEqAdMZYsNll8yBkhijBudBmnXbdjMGVzdPryXaQHTYx5WqfMJo45t4zNY4L9UIWylhWPDms4xGqpUBBlkBljdXpEG7y2jCO+YtAa6wKAaHOguZPI/ZpiDfQ8v02T6i2l59tpfQ8LhctL7vQ2U9q8MXg+hBdhvFwU0cH939joy2LsaJnfCfc8BcyxsWf1ZMZqt/dwzRi0Aqhj2igM6ciVu+Td4LIRUyKAV7r8514N/F8RTglep/1GEgmVgXr03KgtPLYtntDuSwPKZHlBjYWjimEluuwagYHOZoHv+oKmEnK+PZaufVEMRaXI3xCx/7ug0CKMVjOfNu3ENldi4hLgRsarnkd6johm1nYmN10fEBNVFAo8ZOm6TFtb7IdqUEbnJpYdMqCYIue0ArWaRKa4Z695ZQhltBDTYXM2sfDN4+59c5O1VYKNHMywxaNN3ENnrQnzwtC1mJaDhtGYG7c/7IcYnng02N/O+cFS11PS9nf6fEFksdyPQ88iP+Y7b3aUj6h6sMuGSwtvLUdQ9akOC2rs14S4AuZp9as4UkeGjx+gt93/tlFNSEbMZHr1TgAK9775CMdo8wGGur0ziBQVGJ0OFJahlMyB5xnLpmbChMZbHZDYZ2DehLItMMEfRdJtKNa2wgJ8kX/AKnF+uQzhu0jWYMJw== aroojsaleem12345@gmail.com\n"
          ]
        }
      ]
    },
    {
      "cell_type": "code",
      "source": [
        "!git remote set-url origin git@github.com:ArujFatima/Bike-Store-Sales.git"
      ],
      "metadata": {
        "id": "Qt3RJhVc1Qpo"
      },
      "execution_count": null,
      "outputs": []
    },
    {
      "cell_type": "code",
      "source": [
        "!pwd"
      ],
      "metadata": {
        "colab": {
          "base_uri": "https://localhost:8080/"
        },
        "id": "JRLnfD7B1x6K",
        "outputId": "fe7f34d2-175b-4039-d889-286f33b07043"
      },
      "execution_count": null,
      "outputs": [
        {
          "output_type": "stream",
          "name": "stdout",
          "text": [
            "/content\n"
          ]
        }
      ]
    },
    {
      "cell_type": "code",
      "source": [
        "%cd Bike-Store-Sales"
      ],
      "metadata": {
        "colab": {
          "base_uri": "https://localhost:8080/"
        },
        "id": "zNDRHpyj2D8F",
        "outputId": "f5119646-44e6-4cf2-d7af-37d5a9b3ca07"
      },
      "execution_count": null,
      "outputs": [
        {
          "output_type": "stream",
          "name": "stdout",
          "text": [
            "[Errno 2] No such file or directory: 'Bike-Store-Sales'\n",
            "/content\n"
          ]
        }
      ]
    },
    {
      "cell_type": "code",
      "source": [
        "!ls"
      ],
      "metadata": {
        "colab": {
          "base_uri": "https://localhost:8080/"
        },
        "id": "5T8LIjDI2htM",
        "outputId": "c73c987a-4c8a-41fd-f7dd-18860dbb83fc"
      },
      "execution_count": null,
      "outputs": [
        {
          "output_type": "stream",
          "name": "stdout",
          "text": [
            "sample_data\n"
          ]
        }
      ]
    },
    {
      "cell_type": "code",
      "source": [
        "%cd /content\n"
      ],
      "metadata": {
        "colab": {
          "base_uri": "https://localhost:8080/"
        },
        "id": "DvcSNhDk2s_C",
        "outputId": "51ba1259-f4de-4a9e-c4e8-f314d99d72e6"
      },
      "execution_count": null,
      "outputs": [
        {
          "output_type": "stream",
          "name": "stdout",
          "text": [
            "/content\n"
          ]
        }
      ]
    },
    {
      "cell_type": "code",
      "execution_count": null,
      "metadata": {
        "id": "nGxfhE4W9Q4Z"
      },
      "outputs": [],
      "source": [
        "\n",
        "\n",
        "\n",
        "import pandas as pd\n",
        "import requests\n",
        "import io\n",
        "\n",
        "url = \"https://raw.githubusercontent.com/ine-rmotr-curriculum/FreeCodeCamp-Pandas-Real-Life-Example/master/data/sales_data.csv\"\n",
        "\n",
        "response = requests.get(url)\n",
        "df = pd.read_csv(io.StringIO(response.text))\n",
        "df"
      ]
    },
    {
      "cell_type": "code",
      "execution_count": null,
      "metadata": {
        "id": "i4y4np43ANOf"
      },
      "outputs": [],
      "source": []
    },
    {
      "cell_type": "code",
      "execution_count": null,
      "metadata": {
        "id": "V_pYo4JoABA6"
      },
      "outputs": [],
      "source": []
    },
    {
      "cell_type": "code",
      "execution_count": null,
      "metadata": {
        "id": "cws1D8rm6qQj"
      },
      "outputs": [],
      "source": []
    }
  ],
  "metadata": {
    "colab": {
      "provenance": [],
      "authorship_tag": "ABX9TyMeEjItpacjjZIlfmXGtCSY",
      "include_colab_link": true
    },
    "kernelspec": {
      "display_name": "Python 3",
      "name": "python3"
    },
    "language_info": {
      "name": "python"
    }
  },
  "nbformat": 4,
  "nbformat_minor": 0
}